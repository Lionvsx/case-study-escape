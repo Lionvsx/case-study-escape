{
 "cells": [
  {
   "cell_type": "code",
   "execution_count": 1,
   "id": "initial_id",
   "metadata": {
    "collapsed": true,
    "ExecuteTime": {
     "end_time": "2024-02-17T11:22:22.516816Z",
     "start_time": "2024-02-17T11:22:22.508225Z"
    }
   },
   "outputs": [],
   "source": [
    "import pandas as pd\n",
    "import numpy as np\n",
    "import matplotlib.pyplot as plt\n",
    "import seaborn as sns"
   ]
  },
  {
   "cell_type": "code",
   "outputs": [
    {
     "data": {
      "text/plain": "  Name,Professional Email,Industry,Phone,Role,Visited Website,Demo Booked,Demo Done,Meeting Planned,POC Started\n0  Oliver Smith,oliver.smith@pro.com,Technology,+...                                                           \n1  Emma Johnson,emma.johnson@pro.com,Finance,+198...                                                           \n2  Liam Davis,liam.davis@pro.com,Healthcare,+1650...                                                           \n3  Sophia Wilson,sophia.wilson@pro.com,Manufactur...                                                           \n4  Noah Brown,noah.brown@pro.com,Government,+1346...                                                           ",
      "text/html": "<div>\n<style scoped>\n    .dataframe tbody tr th:only-of-type {\n        vertical-align: middle;\n    }\n\n    .dataframe tbody tr th {\n        vertical-align: top;\n    }\n\n    .dataframe thead th {\n        text-align: right;\n    }\n</style>\n<table border=\"1\" class=\"dataframe\">\n  <thead>\n    <tr style=\"text-align: right;\">\n      <th></th>\n      <th>Name,Professional Email,Industry,Phone,Role,Visited Website,Demo Booked,Demo Done,Meeting Planned,POC Started</th>\n    </tr>\n  </thead>\n  <tbody>\n    <tr>\n      <th>0</th>\n      <td>Oliver Smith,oliver.smith@pro.com,Technology,+...</td>\n    </tr>\n    <tr>\n      <th>1</th>\n      <td>Emma Johnson,emma.johnson@pro.com,Finance,+198...</td>\n    </tr>\n    <tr>\n      <th>2</th>\n      <td>Liam Davis,liam.davis@pro.com,Healthcare,+1650...</td>\n    </tr>\n    <tr>\n      <th>3</th>\n      <td>Sophia Wilson,sophia.wilson@pro.com,Manufactur...</td>\n    </tr>\n    <tr>\n      <th>4</th>\n      <td>Noah Brown,noah.brown@pro.com,Government,+1346...</td>\n    </tr>\n  </tbody>\n</table>\n</div>"
     },
     "execution_count": 5,
     "metadata": {},
     "output_type": "execute_result"
    }
   ],
   "source": [
    "df = pd.read_csv('leads-data.csv', sep=\",\", quotechar='\"')\n",
    "\n",
    "df.head()"
   ],
   "metadata": {
    "collapsed": false,
    "ExecuteTime": {
     "end_time": "2024-02-17T11:26:23.953698Z",
     "start_time": "2024-02-17T11:26:23.947607Z"
    }
   },
   "id": "e9bfe0e379cb5d87",
   "execution_count": 5
  },
  {
   "cell_type": "code",
   "outputs": [],
   "source": [
    "def parse_csv(file_path):\n",
    "    with open(file_path, 'r') as file:\n",
    "        # Read lines and remove the newline character and enclosing quotes\n",
    "        lines = file.readlines()\n",
    "        lines = [line.strip().strip('\"') for line in lines]\n",
    "    \n",
    "    # Split each line by comma to separate the values\n",
    "    data_list = [line.split(',') for line in lines]\n",
    "    \n",
    "    # Extract headers and rows\n",
    "    headers = data_list[0]\n",
    "    rows = data_list[1:]\n",
    "    \n",
    "    # Create a DataFrame from the parsed data\n",
    "    df = pd.DataFrame(rows, columns=headers)\n",
    "    return df"
   ],
   "metadata": {
    "collapsed": false,
    "ExecuteTime": {
     "end_time": "2024-02-17T11:28:46.480342Z",
     "start_time": "2024-02-17T11:28:46.475676Z"
    }
   },
   "id": "e5caf3576f42b727",
   "execution_count": 6
  },
  {
   "cell_type": "code",
   "outputs": [],
   "source": [
    "df = parse_csv('leads-data.csv')"
   ],
   "metadata": {
    "collapsed": false,
    "ExecuteTime": {
     "end_time": "2024-02-17T11:28:53.375444Z",
     "start_time": "2024-02-17T11:28:53.369675Z"
    }
   },
   "id": "65f96153a7de2df9",
   "execution_count": 7
  },
  {
   "cell_type": "code",
   "outputs": [
    {
     "data": {
      "text/plain": "            Name     Professional Email       Industry         Phone  \\\n0   Oliver Smith   oliver.smith@pro.com     Technology  +12345678901   \n1   Emma Johnson   emma.johnson@pro.com        Finance  +19876543210   \n2     Liam Davis     liam.davis@pro.com     Healthcare  +16504321987   \n3  Sophia Wilson  sophia.wilson@pro.com  Manufacturing  +17894561230   \n4     Noah Brown     noah.brown@pro.com     Government  +13467980235   \n\n                            Role Visited Website Demo Booked Demo Done  \\\n0                           CISO             Yes         Yes       Yes   \n1     VP of Application Security             Yes         Yes       Yes   \n2  Application Security Engineer             Yes         Yes       Yes   \n3     VP of Application Security             Yes         Yes       Yes   \n4                           CISO             Yes         Yes       Yes   \n\n  Meeting Planned POC Started  \n0             Yes         Yes  \n1             Yes         Yes  \n2             Yes         Yes  \n3             Yes         Yes  \n4             Yes         Yes  ",
      "text/html": "<div>\n<style scoped>\n    .dataframe tbody tr th:only-of-type {\n        vertical-align: middle;\n    }\n\n    .dataframe tbody tr th {\n        vertical-align: top;\n    }\n\n    .dataframe thead th {\n        text-align: right;\n    }\n</style>\n<table border=\"1\" class=\"dataframe\">\n  <thead>\n    <tr style=\"text-align: right;\">\n      <th></th>\n      <th>Name</th>\n      <th>Professional Email</th>\n      <th>Industry</th>\n      <th>Phone</th>\n      <th>Role</th>\n      <th>Visited Website</th>\n      <th>Demo Booked</th>\n      <th>Demo Done</th>\n      <th>Meeting Planned</th>\n      <th>POC Started</th>\n    </tr>\n  </thead>\n  <tbody>\n    <tr>\n      <th>0</th>\n      <td>Oliver Smith</td>\n      <td>oliver.smith@pro.com</td>\n      <td>Technology</td>\n      <td>+12345678901</td>\n      <td>CISO</td>\n      <td>Yes</td>\n      <td>Yes</td>\n      <td>Yes</td>\n      <td>Yes</td>\n      <td>Yes</td>\n    </tr>\n    <tr>\n      <th>1</th>\n      <td>Emma Johnson</td>\n      <td>emma.johnson@pro.com</td>\n      <td>Finance</td>\n      <td>+19876543210</td>\n      <td>VP of Application Security</td>\n      <td>Yes</td>\n      <td>Yes</td>\n      <td>Yes</td>\n      <td>Yes</td>\n      <td>Yes</td>\n    </tr>\n    <tr>\n      <th>2</th>\n      <td>Liam Davis</td>\n      <td>liam.davis@pro.com</td>\n      <td>Healthcare</td>\n      <td>+16504321987</td>\n      <td>Application Security Engineer</td>\n      <td>Yes</td>\n      <td>Yes</td>\n      <td>Yes</td>\n      <td>Yes</td>\n      <td>Yes</td>\n    </tr>\n    <tr>\n      <th>3</th>\n      <td>Sophia Wilson</td>\n      <td>sophia.wilson@pro.com</td>\n      <td>Manufacturing</td>\n      <td>+17894561230</td>\n      <td>VP of Application Security</td>\n      <td>Yes</td>\n      <td>Yes</td>\n      <td>Yes</td>\n      <td>Yes</td>\n      <td>Yes</td>\n    </tr>\n    <tr>\n      <th>4</th>\n      <td>Noah Brown</td>\n      <td>noah.brown@pro.com</td>\n      <td>Government</td>\n      <td>+13467980235</td>\n      <td>CISO</td>\n      <td>Yes</td>\n      <td>Yes</td>\n      <td>Yes</td>\n      <td>Yes</td>\n      <td>Yes</td>\n    </tr>\n  </tbody>\n</table>\n</div>"
     },
     "execution_count": 8,
     "metadata": {},
     "output_type": "execute_result"
    }
   ],
   "source": [
    "df.head()"
   ],
   "metadata": {
    "collapsed": false,
    "ExecuteTime": {
     "end_time": "2024-02-17T11:28:55.125301Z",
     "start_time": "2024-02-17T11:28:55.120591Z"
    }
   },
   "id": "529dd9cbaf1184f6",
   "execution_count": 8
  },
  {
   "cell_type": "code",
   "outputs": [
    {
     "data": {
      "text/plain": "({'Visited Website': 77,\n  'Demo Booked': 19,\n  'Demo Done': 14,\n  'Meeting Planned': 10,\n  'POC Started': 6},\n {'Visited Website to Demo Booked': 0.24675324675324675,\n  'Demo Booked to Demo Done': 0.7368421052631579,\n  'Demo Done to Meeting Planned': 0.7142857142857143,\n  'Meeting Planned to POC Started': 0.6})"
     },
     "execution_count": 10,
     "metadata": {},
     "output_type": "execute_result"
    }
   ],
   "source": [
    "# Converting 'Yes'/'No' columns to boolean for easier calculation\n",
    "for col in ['Visited Website', 'Demo Booked', 'Demo Done', 'Meeting Planned', 'POC Started']:\n",
    "    df[col] = df[col] == 'Yes'\n",
    "\n",
    "# Calculating counts at each step of the funnel\n",
    "funnel_counts = {\n",
    "    'Visited Website': df['Visited Website'].sum(),\n",
    "    'Demo Booked': df['Demo Booked'].sum(),\n",
    "    'Demo Done': df['Demo Done'].sum(),\n",
    "    'Meeting Planned': df['Meeting Planned'].sum(),\n",
    "    'POC Started': df['POC Started'].sum()\n",
    "}\n",
    "\n",
    "# Calculating conversion rates between each step\n",
    "funnel_conversion_rates = {\n",
    "    'Visited Website to Demo Booked': funnel_counts['Demo Booked'] / funnel_counts['Visited Website'] if funnel_counts['Visited Website'] else 0,\n",
    "    'Demo Booked to Demo Done': funnel_counts['Demo Done'] / funnel_counts['Demo Booked'] if funnel_counts['Demo Booked'] else 0,\n",
    "    'Demo Done to Meeting Planned': funnel_counts['Meeting Planned'] / funnel_counts['Demo Done'] if funnel_counts['Demo Done'] else 0,\n",
    "    'Meeting Planned to POC Started': funnel_counts['POC Started'] / funnel_counts['Meeting Planned'] if funnel_counts['Meeting Planned'] else 0,\n",
    "}\n",
    "\n",
    "funnel_counts, funnel_conversion_rates\n"
   ],
   "metadata": {
    "collapsed": false,
    "ExecuteTime": {
     "end_time": "2024-02-17T11:33:56.357297Z",
     "start_time": "2024-02-17T11:33:56.353802Z"
    }
   },
   "id": "8ab1a161a81c3b49",
   "execution_count": 10
  },
  {
   "cell_type": "code",
   "outputs": [
    {
     "data": {
      "text/plain": "array(['CISO', 'VP of Application Security',\n       'Application Security Engineer'], dtype=object)"
     },
     "execution_count": 11,
     "metadata": {},
     "output_type": "execute_result"
    }
   ],
   "source": [
    "df[\"Role\"].unique()"
   ],
   "metadata": {
    "collapsed": false,
    "ExecuteTime": {
     "end_time": "2024-02-17T12:38:15.881841Z",
     "start_time": "2024-02-17T12:38:15.865249Z"
    }
   },
   "id": "86ae7ec89348299c",
   "execution_count": 11
  },
  {
   "cell_type": "code",
   "outputs": [
    {
     "data": {
      "text/plain": "array(['Technology', 'Finance', 'Healthcare', 'Manufacturing',\n       'Government', 'Retail', 'Telecommunications', 'Education',\n       'Energy', 'Construction', 'Pharmaceuticals', 'Aerospace',\n       'Automotive', 'Media', 'IT Services'], dtype=object)"
     },
     "execution_count": 12,
     "metadata": {},
     "output_type": "execute_result"
    }
   ],
   "source": [
    "df[\"Industry\"].unique()"
   ],
   "metadata": {
    "collapsed": false,
    "ExecuteTime": {
     "end_time": "2024-02-17T12:38:19.262314Z",
     "start_time": "2024-02-17T12:38:19.255825Z"
    }
   },
   "id": "8cbe369d0cc4c281",
   "execution_count": 12
  },
  {
   "cell_type": "code",
   "outputs": [],
   "source": [],
   "metadata": {
    "collapsed": false
   },
   "id": "2cf1d3b366e0ee09"
  }
 ],
 "metadata": {
  "kernelspec": {
   "display_name": "Python 3",
   "language": "python",
   "name": "python3"
  },
  "language_info": {
   "codemirror_mode": {
    "name": "ipython",
    "version": 2
   },
   "file_extension": ".py",
   "mimetype": "text/x-python",
   "name": "python",
   "nbconvert_exporter": "python",
   "pygments_lexer": "ipython2",
   "version": "2.7.6"
  }
 },
 "nbformat": 4,
 "nbformat_minor": 5
}
